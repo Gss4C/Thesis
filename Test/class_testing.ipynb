{
 "cells": [
  {
   "cell_type": "code",
   "execution_count": null,
   "metadata": {},
   "outputs": [],
   "source": [
    "import class_test as ct"
   ]
  },
  {
   "cell_type": "code",
   "execution_count": 1,
   "metadata": {},
   "outputs": [],
   "source": [
    "from class_test import *"
   ]
  },
  {
   "cell_type": "code",
   "execution_count": null,
   "metadata": {},
   "outputs": [],
   "source": [
    "from class_test import tizio"
   ]
  },
  {
   "cell_type": "code",
   "execution_count": null,
   "metadata": {},
   "outputs": [],
   "source": [
    "print(coso.label)\n",
    "print(coso.altrastringa)\n",
    "print(coso.stringcombo())\n",
    "print(stocazzo.label)\n",
    "print(tizio)"
   ]
  },
  {
   "cell_type": "code",
   "execution_count": null,
   "metadata": {},
   "outputs": [],
   "source": [
    "print(type(coso.label))\n",
    "coso.label.replace(\"coso\",\"cosariello\")"
   ]
  },
  {
   "cell_type": "code",
   "execution_count": null,
   "metadata": {},
   "outputs": [],
   "source": [
    "giovanni = sample(label=\"labella\", numerino= 55)\n",
    "print(giovanni.numerino)"
   ]
  },
  {
   "cell_type": "code",
   "execution_count": 2,
   "metadata": {},
   "outputs": [
    {
     "data": {
      "text/plain": [
       "7"
      ]
     },
     "execution_count": 2,
     "metadata": {},
     "output_type": "execute_result"
    }
   ],
   "source": [
    "listaccia = [1,4,22,5,2,5,6]\n",
    "numeraccio = 3\n",
    "len(listaccia)"
   ]
  },
  {
   "cell_type": "code",
   "execution_count": 3,
   "metadata": {},
   "outputs": [
    {
     "name": "stdout",
     "output_type": "stream",
     "text": [
      "10\n"
     ]
    }
   ],
   "source": [
    "contante = contino(listino=listaccia, numerino=numeraccio)\n",
    "caccola = contante.counterino()\n",
    "print(caccola)"
   ]
  },
  {
   "cell_type": "code",
   "execution_count": 8,
   "metadata": {},
   "outputs": [],
   "source": [
    "class giovanni:\n",
    "    def __init__(self,numeracchio = 5):\n",
    "        self.numeracchio = numeracchio\n",
    "    def numeracchio_per_n(self, numerotto):\n",
    "        numerotto = numerotto\n",
    "        a = self.numeracchio * numerotto\n",
    "        return a\n",
    "\n",
    "class significancer:\n",
    "    def __init__(self, mini_sample):\n",
    "        self.mini_sample = mini_sample\n",
    "        \n",
    "    def significance_run2(slef, n_sel = 10 , n_tot = 10):\n",
    "        sig = n_sel * self.mini_sample.sigma \n",
    "        return sig"
   ]
  },
  {
   "cell_type": "code",
   "execution_count": 9,
   "metadata": {},
   "outputs": [
    {
     "data": {
      "text/plain": [
       "120"
      ]
     },
     "execution_count": 9,
     "metadata": {},
     "output_type": "execute_result"
    }
   ],
   "source": [
    "a = giovanni(60)\n",
    "b = a.numeracchio_per_n(2)\n",
    "b"
   ]
  },
  {
   "cell_type": "code",
   "execution_count": null,
   "metadata": {},
   "outputs": [],
   "source": []
  }
 ],
 "metadata": {
  "kernelspec": {
   "display_name": "base",
   "language": "python",
   "name": "python3"
  },
  "language_info": {
   "codemirror_mode": {
    "name": "ipython",
    "version": 3
   },
   "file_extension": ".py",
   "mimetype": "text/x-python",
   "name": "python",
   "nbconvert_exporter": "python",
   "pygments_lexer": "ipython3",
   "version": "3.9.12"
  },
  "orig_nbformat": 4
 },
 "nbformat": 4,
 "nbformat_minor": 2
}
