{
 "cells": [
  {
   "cell_type": "code",
   "execution_count": 2,
   "metadata": {},
   "outputs": [],
   "source": [
    "def read_and_list(path_to_txtfile):\n",
    "    '''\n",
    "    input to a txt file containing a column and output a strings list\n",
    "    '''\n",
    "    lista_file = []\n",
    "    with open(path_to_txtfile, \"r\") as file:\n",
    "        for riga in file:\n",
    "            riga = riga.strip()  # Rimuovi eventuali spazi o caratteri di newline alla fine della riga\n",
    "            lista_file.append(riga)\n",
    "    return lista_file"
   ]
  },
  {
   "cell_type": "code",
   "execution_count": 3,
   "metadata": {},
   "outputs": [
    {
     "name": "stdout",
     "output_type": "stream",
     "text": [
      "['stocazzo', 'aiuto.txt', 'aiuto.root', 'cosa vuoi', 'deficiente, favfx']\n"
     ]
    }
   ],
   "source": [
    "A = read_and_list(\"elencone.txt\")\n",
    "print(A)"
   ]
  },
  {
   "cell_type": "code",
   "execution_count": null,
   "metadata": {},
   "outputs": [],
   "source": []
  }
 ],
 "metadata": {
  "kernelspec": {
   "display_name": "base",
   "language": "python",
   "name": "python3"
  },
  "language_info": {
   "codemirror_mode": {
    "name": "ipython",
    "version": 3
   },
   "file_extension": ".py",
   "mimetype": "text/x-python",
   "name": "python",
   "nbconvert_exporter": "python",
   "pygments_lexer": "ipython3",
   "version": "3.9.12"
  },
  "orig_nbformat": 4
 },
 "nbformat": 4,
 "nbformat_minor": 2
}
