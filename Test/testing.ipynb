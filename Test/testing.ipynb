{
 "cells": [
  {
   "cell_type": "code",
   "execution_count": 1,
   "metadata": {},
   "outputs": [],
   "source": [
    "a = [49, 234, 54]"
   ]
  },
  {
   "cell_type": "code",
   "execution_count": 4,
   "metadata": {},
   "outputs": [
    {
     "name": "stdout",
     "output_type": "stream",
     "text": [
      "0\n",
      "1\n",
      "2\n"
     ]
    }
   ],
   "source": [
    "for i in range(len(a)):\n",
    "    print(i)"
   ]
  },
  {
   "cell_type": "code",
   "execution_count": 24,
   "metadata": {},
   "outputs": [
    {
     "data": {
      "text/plain": [
       "{'1': 4, '2': 5, '3': 99}"
      ]
     },
     "execution_count": 24,
     "metadata": {},
     "output_type": "execute_result"
    }
   ],
   "source": [
    "dic = {\"1\":1, \"2\":1, \"3\":1}\n",
    "dic[\"1\"] = 4\n",
    "dic[\"2\"] = 5\n",
    "dic[\"3\"] = 99\n",
    "dic"
   ]
  },
  {
   "cell_type": "code",
   "execution_count": 2,
   "metadata": {},
   "outputs": [
    {
     "name": "stdout",
     "output_type": "stream",
     "text": [
      "Sbello\n"
     ]
    }
   ],
   "source": [
    "RES = True\n",
    "RES2 = False\n",
    "\n",
    "BST = True\n",
    "BST2 = False\n",
    "\n",
    "fwd = True\n",
    "fwd2 = False\n",
    "\n",
    "if RES and not BST:\n",
    "    print(\"Bello\")\n",
    "else:\n",
    "    print(\"Sbello\")"
   ]
  },
  {
   "cell_type": "code",
   "execution_count": 2,
   "metadata": {},
   "outputs": [
    {
     "data": {
      "text/plain": [
       "0.42857142857142855"
      ]
     },
     "execution_count": 2,
     "metadata": {},
     "output_type": "execute_result"
    }
   ],
   "source": [
    "float(3)/7"
   ]
  },
  {
   "cell_type": "code",
   "execution_count": null,
   "metadata": {},
   "outputs": [],
   "source": [
    "import pandas as pd \n",
    "dict = {} \n",
    "dict[\"Resolved\"] = [eff_isR_0FWJ*100, eff_isR_geq1FWJ*100] \n",
    "dict[\"Merged\"] = [eff_isM_0FWJ*100, eff_isM_geq1FWJ*100] \n",
    " \n",
    "df = pd.DataFrame(data=dict, index=[\"0FWJ\", \">=1FWJ\"]) \n",
    "print(df) \n",
    " \n",
    "import seaborn as sns \n",
    "import matplotlib.pyplot as plt \n",
    "#import mplhep as hep \n",
    "#hep.style.use(hep.style.CMS) \n",
    "plt.rcParams[\"font.size\"]=20 \n",
    "plt.rcParams[\"figure.figsize\"]=[10, 5] \n",
    "plt.rcParams[\"figure.autolayout\"]=True \n",
    "plt.title(\"Efficiencies Heatmap (in %)\") \n",
    "efficiencies = sns.heatmap(data=df, annot=True, cmap=\"viridis\", linewidth=0.5) \n",
    "#efficiencies.xaxis.tick_top() \n",
    "plt.show()"
   ]
  },
  {
   "cell_type": "code",
   "execution_count": 36,
   "metadata": {},
   "outputs": [
    {
     "name": "stdout",
     "output_type": "stream",
     "text": [
      "    Resolved  Merged\n",
      "tr        55      81\n",
      "dr        54      80\n"
     ]
    },
    {
     "data": {
      "image/png": "[encoded data removed]",
      "text/plain": [
       "<Figure size 576x360 with 2 Axes>"
      ]
     },
     "metadata": {
      "needs_background": "light"
     },
     "output_type": "display_data"
    }
   ],
   "source": [
    "import pandas as pd \n",
    "import seaborn as sns \n",
    "import matplotlib.pyplot as plt\n",
    "dict = {} \n",
    "dict[\"Resolved\"] = [55, 54] \n",
    "dict[\"Merged\"] = [81, 80] \n",
    " \n",
    "df = pd.DataFrame(data=dict, index=[\"tr\", \"dr\"]) \n",
    "print(df) \n",
    "\n",
    "#plt.rcParams[\"font.size\"]=20 \n",
    "plt.rcParams[\"figure.figsize\"]=[8, 5] \n",
    "plt.rcParams[\"figure.autolayout\"]=True \n",
    "plt.title(\"Efficiencies (%)\") \n",
    "coso = sns.heatmap(df, cmap=\"summer\", linewidth=0.5, annot=True)\n",
    "plt.show()"
   ]
  },
  {
   "cell_type": "code",
   "execution_count": 12,
   "metadata": {},
   "outputs": [
    {
     "name": "stdout",
     "output_type": "stream",
     "text": [
      "25000.0\n"
     ]
    }
   ],
   "source": [
    "z = 10 \n",
    "w = 0.0004\n",
    "k = z/w if w != 0 else 50 \n",
    "print(k)"
   ]
  },
  {
   "cell_type": "code",
   "execution_count": 1,
   "metadata": {},
   "outputs": [
    {
     "name": "stdout",
     "output_type": "stream",
     "text": [
      "mammt_scema.root\n",
      "mammt_scema_skim.root\n"
     ]
    }
   ],
   "source": [
    "stringa = \"mammt_scema.root\"\n",
    "print(stringa)\n",
    "stronga = stringa.replace(\".root\",\"_skim.root\")\n",
    "print(stronga)"
   ]
  },
  {
   "cell_type": "code",
   "execution_count": 9,
   "metadata": {},
   "outputs": [
    {
     "name": "stdout",
     "output_type": "stream",
     "text": [
      "SBLU\n"
     ]
    }
   ],
   "source": [
    "diz = {\n",
    "    \"antonio\": \"VERDE\",\n",
    "    \"gennaro\": \"SBLU\"\n",
    "}\n",
    "a = \"gennaro\"\n",
    "print(diz[a])"
   ]
  },
  {
   "cell_type": "code",
   "execution_count": 2,
   "metadata": {},
   "outputs": [
    {
     "name": "stdout",
     "output_type": "stream",
     "text": [
      "6\n"
     ]
    }
   ],
   "source": [
    "listabella = [40,293,55,235,656,23,65,23,4,234,6,34,54]\n",
    "print(listabella.index(23) +1)"
   ]
  },
  {
   "cell_type": "code",
   "execution_count": null,
   "metadata": {},
   "outputs": [],
   "source": []
  }
 ],
 "metadata": {
  "kernelspec": {
   "display_name": "base",
   "language": "python",
   "name": "python3"
  },
  "language_info": {
   "codemirror_mode": {
    "name": "ipython",
    "version": 3
   },
   "file_extension": ".py",
   "mimetype": "text/x-python",
   "name": "python",
   "nbconvert_exporter": "python",
   "pygments_lexer": "ipython3",
   "version": "3.9.12"
  },
  "orig_nbformat": 4
 },
 "nbformat": 4,
 "nbformat_minor": 2
}
